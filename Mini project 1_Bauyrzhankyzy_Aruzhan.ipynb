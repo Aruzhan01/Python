{
 "cells": [
  {
   "cell_type": "markdown",
   "id": "74b5d472",
   "metadata": {},
   "source": [
    "# Мини проект 1"
   ]
  },
  {
   "cell_type": "markdown",
   "id": "cc4f6ca8",
   "metadata": {},
   "source": [
    "Вам дан файл users.txt. Вы должны сделать следующие действия:\n",
    "\n",
    "1) Прочитать этот файл построчно. Пожалуйста, используйте для этого try catch. Если файл не найден, напечатайте следующий текст: «the file that you would like to read is not found». Для любых других ошибок, пожалуйста, напечатайте следующее сообщение: \"some error occured\"\n",
    "     "
   ]
  },
  {
   "cell_type": "code",
   "execution_count": 7,
   "id": "ee8af783-ce71-4ec9-b219-c3143d156e4b",
   "metadata": {},
   "outputs": [
    {
     "name": "stdin",
     "output_type": "stream",
     "text": [
      "Введите имя файла или 'exit' для выхода users\n"
     ]
    },
    {
     "name": "stdout",
     "output_type": "stream",
     "text": [
      "the file that you would like to read is not found\n"
     ]
    },
    {
     "name": "stdin",
     "output_type": "stream",
     "text": [
      "Введите имя файла или 'exit' для выхода users.txt\n"
     ]
    },
    {
     "name": "stdout",
     "output_type": "stream",
     "text": [
      "['1,Magzhan,Kairanbay,magzhan.kairanbay@gmail.com,1991\\n', '2,John,See,john.see@gmail.com,1981\\n', '3,Lim,Kim,lim.kim@gmail.com,1997\\n', '4,Andrew,Ng,andrew.ng@gmail.com,1971\\n', '5,Andrey,Karpathy,andrey.karpathy@gmail.com,1981\\n', '6,Jackie,Chan,jeckie.chan@gmail.com,1951\\n', '7,Clarence,Lim,clarence.lim@gmail.com,1985\\n', '8,Ryan,Jack,ryan.jack@gmail.com,1994\\n', '9,Jonattan,Clark,jonattan.clark@gmail.com,2000\\n', '10,Chris,Brown,chris.brown@gmail.com,1989\\n', '11,Justin,Bieber,justin.bieber@gmail.com,1992']\n"
     ]
    }
   ],
   "source": [
    "#решение 1-задачи\n",
    "def read_file():\n",
    "    while True:\n",
    "        filename = input(\"Введите имя файла или 'exit' для выхода\")\n",
    "        if filename == \"exit\":\n",
    "            print('Выход из программы')\n",
    "            break\n",
    "        try:\n",
    "            with open(filename, 'r') as file:\n",
    "               print(file.readlines())\n",
    "            break\n",
    "        except FileNotFoundError:\n",
    "            print(\"the file that you would like to read is not found\")\n",
    "        except Exception:\n",
    "            print(\"some error occured\")\n",
    "\n",
    "# Вызов функции\n",
    "read_file()\n"
   ]
  },
  {
   "cell_type": "markdown",
   "id": "98c60a93-343d-45e7-a63e-98d4a584424c",
   "metadata": {},
   "source": [
    "     \n",
    "2) Создайте класс Users со следующими атрибутами и функциями:\n",
    "\n",
    "     a) имя\n",
    "     \n",
    "     b) фамилия\n",
    "     \n",
    "     c) год рождения\n",
    "     \n",
    "     d) адрес электронной почты\n",
    "     \n",
    "     e) getAge(): возвращает возраст пользователя, принимая во внимание, что текущий год 2023"
   ]
  },
  {
   "cell_type": "code",
   "execution_count": 49,
   "id": "7d040cbe-f26b-4a29-9a03-9acddcd04496",
   "metadata": {},
   "outputs": [],
   "source": [
    "#решение 2-задачи\n",
    "\n",
    "class Users:\n",
    "    def __init__(self, id, name, lastname, email, birth_year):\n",
    "        self.id = id \n",
    "        self.name = name\n",
    "        self.lastname = lastname\n",
    "        self.email = email\n",
    "        self.birth_year = int(birth_year)\n",
    "        \n",
    "    def __str__(self):\n",
    "        return f\"{self.id}, {self.name}, {self.lastname}, {self.email}, {self.birth_year}\"\n",
    "        \n",
    "    def getAge(self):\n",
    "        current_year = 2023\n",
    "        return current_year - self.birth_year\n",
    "\n",
    "    def to_list(self): #нужен будет для 3-й задачки\n",
    "        return [self.id, self.name, self.lastname, self.email, str(self.birth_year)]\n"
   ]
  },
  {
   "cell_type": "code",
   "execution_count": 50,
   "id": "2294ace4-a19d-4ece-82b0-a3b74520dced",
   "metadata": {},
   "outputs": [
    {
     "name": "stdout",
     "output_type": "stream",
     "text": [
      "Возраст пользователя Aruzhan Bauyrzhankyzy равно 23 лет\n"
     ]
    }
   ],
   "source": [
    "user = Users(12, \"Aruzhan\" , \"Bauyrzhankyzy\", \"bauyrzhanovaaruzhan@gmail.com\", 2000)\n",
    "print(f\"Возраст пользователя {user.name} {user.lastname} равно {user.getAge()} лет\")"
   ]
  },
  {
   "cell_type": "markdown",
   "id": "35b464f9-d95b-4ec6-8a21-c316e5ae0fb8",
   "metadata": {},
   "source": [
    "3) преобразовать каждую строку файла в объект класса Users и сохранить их все в списке. Чтобы разделить слова, разделенные запятой, используйте функцию split(). Например, если: s = \"a,b,c\", тогда t = s.split(',') вернет ['a', 'b', 'c']. Таким образом разделите данные в каждой строке на отдельные части и присвойте эти значения атрибутам класса «Users»."
   ]
  },
  {
   "cell_type": "code",
   "execution_count": 60,
   "id": "bcbf5991-b0a5-4242-a304-7613baf9894d",
   "metadata": {},
   "outputs": [
    {
     "name": "stdout",
     "output_type": "stream",
     "text": [
      "['1', 'Magzhan', 'Kairanbay', 'magzhan.kairanbay@gmail.com', '1991']\n",
      "['2', 'John', 'See', 'john.see@gmail.com', '1981']\n",
      "['3', 'Lim', 'Kim', 'lim.kim@gmail.com', '1997']\n",
      "['4', 'Andrew', 'Ng', 'andrew.ng@gmail.com', '1971']\n",
      "['5', 'Andrey', 'Karpathy', 'andrey.karpathy@gmail.com', '1981']\n",
      "['6', 'Jackie', 'Chan', 'jeckie.chan@gmail.com', '1951']\n",
      "['7', 'Clarence', 'Lim', 'clarence.lim@gmail.com', '1985']\n",
      "['8', 'Ryan', 'Jack', 'ryan.jack@gmail.com', '1994']\n",
      "['9', 'Jonattan', 'Clark', 'jonattan.clark@gmail.com', '2000']\n",
      "['10', 'Chris', 'Brown', 'chris.brown@gmail.com', '1989']\n",
      "['11', 'Justin', 'Bieber', 'justin.bieber@gmail.com', '1992']\n"
     ]
    }
   ],
   "source": [
    "def create_users_from_file(filename):\n",
    "    users_list = []\n",
    "    try:\n",
    "        with open(filename, 'r') as file:\n",
    "            for line in file:\n",
    "                # Разделяем строку на части и убираем символ перевода строки в конце\n",
    "                id, name, lastname, email, birth_year = line.strip().split(',')\n",
    "                # Создаем объект Users и добавляем его в список\n",
    "                user = Users(id, name, lastname, email, birth_year)\n",
    "                users_list.append(user)\n",
    "    except FileNotFoundError:\n",
    "        print(\"the file that you would like to read is not found\")\n",
    "    except Exception as e:\n",
    "        print(f\"some error occured: {e}\")\n",
    "    return users_list\n",
    "\n",
    "# Пример использования\n",
    "filename = \"users.txt\"\n",
    "users = create_users_from_file(filename)\n",
    "\n",
    "# Вывод информации о пользователях\n",
    "for user in users:\n",
    "    print(user.to_list())\n",
    "    "
   ]
  },
  {
   "cell_type": "markdown",
   "id": "5658da52-cc4c-4441-8e7e-cfe7d35cbf0b",
   "metadata": {},
   "source": [
    "4) написать функцию filter(low, high, users), которая будет принимать параметры по умолчанию \"low\"=30, \"high\"=50 и простой параметр - список объектов класса Users. Функция должна пройтись по всем пользователям и проверить возраст с параметрами low и high. Мы должны вернуть только тех пользователей, чей возраст выше нижнего параметра low и ниже верхнего параметра high. Распечатайте их адрес электронной почты и возраст. Пожалуйста, разделите данные (адрес электронной почты и возраст) запятой. Затем вызовите эту функцию."
   ]
  },
  {
   "cell_type": "code",
   "execution_count": 69,
   "id": "b2f6c317-a459-4d8b-8ffd-e882aa0fcf7f",
   "metadata": {},
   "outputs": [
    {
     "name": "stdout",
     "output_type": "stream",
     "text": [
      "magzhan.kairanbay@gmail.com, 32\n",
      "john.see@gmail.com, 42\n",
      "andrey.karpathy@gmail.com, 42\n",
      "clarence.lim@gmail.com, 38\n",
      "chris.brown@gmail.com, 34\n",
      "justin.bieber@gmail.com, 31\n"
     ]
    }
   ],
   "source": [
    "def filter_users(users, low=30, high=50):\n",
    "    for user in users:\n",
    "        age = user.getAge()\n",
    "        if age>low and age < high:\n",
    "            print(f\"{user.email}, {age}\")\n",
    "\n",
    "# Вызов функции с использованием списка пользователей, созданного ранее\n",
    "filter_users(users)\n"
   ]
  },
  {
   "cell_type": "code",
   "execution_count": null,
   "id": "b3886bab-f28b-4f0e-a777-a58659690623",
   "metadata": {},
   "outputs": [],
   "source": []
  }
 ],
 "metadata": {
  "kernelspec": {
   "display_name": "Python 3 (ipykernel)",
   "language": "python",
   "name": "python3"
  },
  "language_info": {
   "codemirror_mode": {
    "name": "ipython",
    "version": 3
   },
   "file_extension": ".py",
   "mimetype": "text/x-python",
   "name": "python",
   "nbconvert_exporter": "python",
   "pygments_lexer": "ipython3",
   "version": "3.11.7"
  }
 },
 "nbformat": 4,
 "nbformat_minor": 5
}
