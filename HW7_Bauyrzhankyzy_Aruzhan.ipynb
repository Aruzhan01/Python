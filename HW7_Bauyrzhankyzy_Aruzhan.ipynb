{
 "cells": [
  {
   "cell_type": "markdown",
   "id": "829758e6-0f7a-457d-98bc-644d6986af5b",
   "metadata": {},
   "source": [
    "Задача 1: Модуль для обработки строк\r\n",
    "\r\n",
    "Создайте модуль string_operations.py, который включает следующие функции:\r\n",
    "\r\n",
    "1. count_vowels(str) - возвращает количество гласных букв в строке.\r\n",
    "\r\n",
    "2. reverse_string(str) - возвращает строку в обратном порядке.\r\n",
    "\r\n",
    "3. is_palindrome(str) - проверяет, является ли строка палиндромом.\r\n",
    "\r\n",
    "4. capitalize_string(str) - возвращает строку, где каждое слово начинается с боль\n",
    "\n",
    "ПОДСКАЗКА Задача 1: Модуль для обработки строк\r\n",
    "\r\n",
    "1. count_vowels(str): Используйте цикл для перебора каждого символа в строке и проверьте, является ли он гласной буквой (а, е, и, о, у, ы, э, ю, я) или гласные на англ (на ваш выбор).\r\n",
    "\r\n",
    "2. reverse_string(str): Воспользуйтесь срезами строк в Python, чтобы перевернуть строку (пример как это сделать: string[::-1]).\r\n",
    "\r\n",
    "3. is_palindrome(str): Проверьте равенство строки и её перевёрнутого варианта.\r\n",
    "\r\n",
    "4. capitalize_string(str): Используйте метод .title() или .capitalize() для каждого слова в строке. Для этого сначала разбейте строку на слова с помощью .split(), а затем примените метод к каждому слову.й буквы.\r\n",
    "\r\n"
   ]
  },
  {
   "cell_type": "code",
   "execution_count": 15,
   "id": "bb348bb9-5f80-4419-b9e2-8e8db97614cf",
   "metadata": {},
   "outputs": [],
   "source": [
    "#string_operations.py\n",
    "def count_vowels(str):\n",
    "    vowels = 'aeiouyAEIOUY'\n",
    "    counter = 0\n",
    "\n",
    "    for i in range(len(str)):\n",
    "        if str[i] in vowels:\n",
    "            counter += 1\n",
    "    return counter\n",
    "\n",
    "def reverse_string(str):\n",
    "    return str[::-1]\n",
    "\n",
    "def is_palindrome(str):\n",
    "    # Приводим строку к нижнему регистру и удаляем пробелы\n",
    "    formatted_str = str.replace(\" \", \"\").lower()\n",
    "    return formatted_str == reverse_string(formatted_str)\n",
    "    \n",
    "def capitalize_string(str):\n",
    "    return str.title()\n"
   ]
  },
  {
   "cell_type": "code",
   "execution_count": 17,
   "id": "c29af21d-5e0b-40bf-85cd-66f082cee0b2",
   "metadata": {},
   "outputs": [
    {
     "name": "stdout",
     "output_type": "stream",
     "text": [
      "5\n",
      "iahuiah\n",
      "True\n",
      "Hello World!\n"
     ]
    }
   ],
   "source": [
    "from string_operations import count_vowels, reverse_string, is_palindrome, capitalize_string\n",
    "result1 = count_vowels('haiuhai')\n",
    "print(result1)\n",
    "\n",
    "result2 =  reverse_string('haiuhai')\n",
    "print(result2)\n",
    "\n",
    "result3 =  is_palindrome('A man a plan a canal Panama')\n",
    "print(result3)\n",
    "\n",
    "result4 =  capitalize_string('hello world!')\n",
    "print(result4)\n"
   ]
  },
  {
   "cell_type": "markdown",
   "id": "8dd031dc-d602-450a-a6d2-1549f447b798",
   "metadata": {},
   "source": [
    "Задача 2: Класс Точка\n",
    "\n",
    "Определите класс Point, который представляет точку в двумерном пространстве.\n",
    "\n",
    "- Конструктор, принимающий координаты x и y.\n",
    "\n",
    "- Метод distance_to_origin(), возвращающий расстояние от точки до начала координат.\n",
    "\n",
    "ПОДСКАЗКА \n",
    "Задача 2: Класс Точка\r\n",
    "\r\n",
    "- Конструктор: Инициализируйте атрибуты x и y в конструкторе класса.\r\n",
    "\r\n",
    "- distance_to_origin(): Используйте теорему Пифагора для расчёта расстояния. Расстояние от точки до начала координат — это квадратный корень из (x² + y²). То есть мы считаем сумму квадратов, а далее берем эту сумму в степень (1/2), чтобы посчитать квадратный корень."
   ]
  },
  {
   "cell_type": "code",
   "execution_count": 23,
   "id": "69043af3-2830-44f9-9732-a7fe1882e0bf",
   "metadata": {},
   "outputs": [],
   "source": [
    "from math import sqrt\n",
    "\n",
    "class Point:\n",
    "    def __init__(self, x, y):\n",
    "        self.x = x\n",
    "        self.y = y\n",
    "    def distance_to_origin(self):\n",
    "        return (sqrt(self.x**2 + self.y**2))"
   ]
  },
  {
   "cell_type": "code",
   "execution_count": 26,
   "id": "a4a7f1bc-7495-4183-97ae-ef00a4991b8d",
   "metadata": {},
   "outputs": [
    {
     "name": "stdout",
     "output_type": "stream",
     "text": [
      "5.0\n"
     ]
    }
   ],
   "source": [
    "z = Point(4, 3)\n",
    "print(z.distance_to_origin())"
   ]
  },
  {
   "cell_type": "markdown",
   "id": "da103237-3f31-41a2-8c0d-0cfe2f6ad56a",
   "metadata": {},
   "source": [
    "Задача 3: Модуль конвертации единиц\r\n",
    "\r\n",
    "Создайте модуль unit_converters.py, который содержит функции для конвертации единиц измерения:\r\n",
    "\r\n",
    "1. km_to_miles(km) - переводит километры в мили.\r\n",
    "\r\n",
    "2. celsius_to_fahrenheit(celsius) - переводит градусы Цельсия в градусы Фаренгейта.\r\n",
    "\r\n",
    "3. liters_to_gallons(liters) - переводит литры в \n",
    "\n",
    "ПОДСКАЗКА Задача 3: Модуль конвертации единиц\r\n",
    "\r\n",
    "1. km_to_miles(km): Формула перевода: мили = километры × 0.621371.\r\n",
    "\r\n",
    "2. celsius_to_fahrenheit(celsius): Формула: Фаренгейт = (Цельсий × 9/5) + 32.\r\n",
    "\r\n",
    "3. liters_to_gallons(liters): Формула: галлоны = литры × 0.264172.галлоны."
   ]
  },
  {
   "cell_type": "code",
   "execution_count": null,
   "id": "ca97fe90-c8e9-4aed-9abd-488f61ba6e75",
   "metadata": {},
   "outputs": [],
   "source": [
    "#unit_converters.py\n",
    "def km_to_miles(km):\n",
    "    mili = km * 0.621371\n",
    "    return mili\n",
    "\n",
    "def celsius_to_fahrenheit(celsius):\n",
    "    fahrenheit = (celsius*(9/5)) + 32\n",
    "    return fahrenheit\n",
    "\n",
    "def liters_to_gallons(liters):\n",
    "    gallons = liters * 0.264172\n",
    "    return gallons"
   ]
  },
  {
   "cell_type": "code",
   "execution_count": 37,
   "id": "0bcd4d41-c77f-4f5c-a3c0-461b5a0781ce",
   "metadata": {},
   "outputs": [
    {
     "name": "stdout",
     "output_type": "stream",
     "text": [
      "62.137100000000004\n",
      "32.0\n",
      "2.6417200000000003\n"
     ]
    }
   ],
   "source": [
    "from unit_converters import *\n",
    "\n",
    "print(km_to_miles(100))  # Конвертация 100 км в мили\n",
    "print(celsius_to_fahrenheit(0))  # Конвертация 0°C в °F\n",
    "print(liters_to_gallons(10))  # Конвертация 10 литров в галлоны"
   ]
  },
  {
   "cell_type": "markdown",
   "id": "1398f6c1-ef51-4428-bb7d-0a966839b2f8",
   "metadata": {},
   "source": [
    "Задача 4: Класс Книга\r\n",
    "\r\n",
    "Определите класс Book, который содержит информацию о книге:\r\n",
    "\r\n",
    "- Атрибуты title, author, pages.\r\n",
    "\r\n",
    "- Метод is_long(), который возвращает True, если книга содержит более 500 ст\n",
    "\n",
    "ПОДСКАЗКА Задача 4: Класс Книга\r\n",
    "\r\n",
    "- Конструктор: Просто инициализируйте атрибуты title, author и pages.\r\n",
    "\r\n",
    "- is_long(): Проверьте, больше ли значение атрибута pages 500.раниц."
   ]
  },
  {
   "cell_type": "code",
   "execution_count": 40,
   "id": "d71f3d9b-977b-4b02-b3e1-a3de6bf3d283",
   "metadata": {},
   "outputs": [],
   "source": [
    "class Book:\n",
    "    def __init__(self, title, author, pages):\n",
    "        self.title = title\n",
    "        self.author = author\n",
    "        self.pages = pages\n",
    "    def __str__(self):\n",
    "        return f\"Книга '{self.title}' автора {self.author}, {self.pages} стр.\"\n",
    "    def is_long(self):\n",
    "        return self.pages > 500"
   ]
  },
  {
   "cell_type": "code",
   "execution_count": 42,
   "id": "26a0e897-20e7-4acc-a0af-e6478cb31f20",
   "metadata": {},
   "outputs": [
    {
     "name": "stdout",
     "output_type": "stream",
     "text": [
      "Книга 'Поднятие уровня в одиночку' автора Чу-Гонг, 524 стр.\n"
     ]
    },
    {
     "data": {
      "text/plain": [
       "True"
      ]
     },
     "execution_count": 42,
     "metadata": {},
     "output_type": "execute_result"
    }
   ],
   "source": [
    "any_book = Book('Поднятие уровня в одиночку', 'Чу-Гонг', 524)\n",
    "print(any_book)\n",
    "any_book.is_long()"
   ]
  },
  {
   "cell_type": "markdown",
   "id": "0e5c0793-18ca-4bc9-9155-83e12aa75461",
   "metadata": {},
   "source": [
    " Задача 5: Класс \"Студент\"\n",
    "\n",
    "Создайте класс Student, который моделирует студента.\n",
    "\n",
    "- Конструктор, который принимает имя студента и инициализирует атрибуты name и grades (пустой список).\n",
    "\n",
    "- Метод add_grade(grade), который добавляет оценку в список оценок.\n",
    "\n",
    "- Метод get_average(), возвращающий средний балл студента.\n",
    "\n",
    "ПОДСКАЗКА Задача 5: Класс \"Студент\"\n",
    "\n",
    "- Конструктор: Инициализируйте name и grades (последний должен быть пустым списком).\n",
    "\n",
    "- add_grade(grade): Добавьте оценку в список grades.\n",
    "\n",
    "- get_average(): Вычислите среднее значение оценок. Убедитесь, что список оценок не пуст, чтобы избежать деления на ноль.\n"
   ]
  },
  {
   "cell_type": "code",
   "execution_count": 43,
   "id": "8adbc203-f8eb-47cd-90e2-111ba0de25e0",
   "metadata": {},
   "outputs": [
    {
     "name": "stdout",
     "output_type": "stream",
     "text": [
      "Средний балл John Doe: 80.0\n"
     ]
    }
   ],
   "source": [
    "class Student:\n",
    "    def __init__(self, name):\n",
    "        self.name = name\n",
    "        self.grades_list = []\n",
    "\n",
    "    def add_grade(self, grade):\n",
    "        self.grades_list.append(grade)\n",
    "\n",
    "    def get_average(self):\n",
    "        if len(self.grades_list) > 0:\n",
    "            return sum(self.grades_list) / len(self.grades_list)\n",
    "        else:\n",
    "            return 0\n",
    "\n",
    "student = Student(\"John Doe\")\n",
    "student.add_grade(90)\n",
    "student.add_grade(80)\n",
    "student.add_grade(70)\n",
    "average = student.get_average()\n",
    "print(f\"Средний балл {student.name}: {average}\")"
   ]
  },
  {
   "cell_type": "code",
   "execution_count": null,
   "id": "613e1911-4533-46a5-899e-298b0f977dad",
   "metadata": {},
   "outputs": [],
   "source": []
  }
 ],
 "metadata": {
  "kernelspec": {
   "display_name": "Python 3 (ipykernel)",
   "language": "python",
   "name": "python3"
  },
  "language_info": {
   "codemirror_mode": {
    "name": "ipython",
    "version": 3
   },
   "file_extension": ".py",
   "mimetype": "text/x-python",
   "name": "python",
   "nbconvert_exporter": "python",
   "pygments_lexer": "ipython3",
   "version": "3.11.7"
  }
 },
 "nbformat": 4,
 "nbformat_minor": 5
}
