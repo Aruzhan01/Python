{
 "cells": [
  {
   "cell_type": "markdown",
   "id": "fcab4e19-6610-4eac-bfea-5fdb07d9bb44",
   "metadata": {},
   "source": [
    "\n",
    "Задача 1 - Сложение и изменение формы массивов:\r\n",
    "\r\n",
    "● Создайте два одномерных массива из случайных целых чисел от 1 до 10.\r\n",
    "\r\n",
    "● Выполните поэлементное сложение этих двух массивов.\r\n",
    "\r\n",
    "● Измените форму полученного массива на матрицу 2x5.\r\n",
    "\r\n",
    "● Посчитайте среднее значение"
   ]
  },
  {
   "cell_type": "code",
   "execution_count": 21,
   "id": "0ab9a3a6-0f64-4b80-8c4a-d446e6ffddea",
   "metadata": {},
   "outputs": [
    {
     "name": "stdout",
     "output_type": "stream",
     "text": [
      "[ 2  5  8 10  8  5  6  3  8  9]\n",
      "[ 8  7  6  3 10  6  1  1  1  9]\n",
      "поэлементное сложение этих двух массивов:\n",
      " [10 12 14 13 18 11  7  4  9 18]\n",
      "изменение формы массива на матрицу 2х5:\n",
      " [[10 12 14 13 18]\n",
      " [11  7  4  9 18]]\n"
     ]
    },
    {
     "data": {
      "text/plain": [
       "11.6"
      ]
     },
     "execution_count": 21,
     "metadata": {},
     "output_type": "execute_result"
    }
   ],
   "source": [
    "import numpy as np\n",
    "\n",
    "array1 = np.random.randint(1, 11, size=10)\n",
    "print(array1)\n",
    "array2 = np.random.randint(1, 11, size=10)\n",
    "print(array2)\n",
    "\n",
    "sum_array = array1+array2\n",
    "\n",
    "print(\"поэлементное сложение этих двух массивов:\\n\", sum_array)\n",
    "\n",
    "sum_array = sum_array.reshape((2,5))\n",
    "print(\"изменение формы массива на матрицу 2х5:\\n\", sum_array)\n",
    "sum_array_mean = sum_array.mean()\n",
    "sum_array_mean"
   ]
  },
  {
   "cell_type": "markdown",
   "id": "c9fd4114-ef6d-41ca-b3f7-fe2fecba1120",
   "metadata": {},
   "source": [
    "Задача 2 - Работа со срезами и формами:\r\n",
    "\r\n",
    "● Создайте массив размером 3x3 и выведите его первую строку и первый столбец.\r\n",
    "\r\n",
    "● Измените форму массива с помощью функции reshape и выведите его новую форму.\r\n",
    "\r\n",
    "● Используйте функцию flatten, чтобы преобразовать массив в одномерный."
   ]
  },
  {
   "cell_type": "code",
   "execution_count": 28,
   "id": "31e73a5f-55a9-4107-a6e0-865cfbef2228",
   "metadata": {},
   "outputs": [
    {
     "name": "stdout",
     "output_type": "stream",
     "text": [
      "массив размером 3x3:\n",
      " [[[76 37 72]\n",
      "  [83 87 17]\n",
      "  [13 87 13]]\n",
      "\n",
      " [[24 11 42]\n",
      "  [31 12 81]\n",
      "  [76 75 20]]\n",
      "\n",
      " [[22 22 81]\n",
      "  [76  9 60]\n",
      "  [15 69 40]]]\n",
      "массив размером 3x9:\n",
      " [[76 37 72 83 87 17 13 87 13]\n",
      " [24 11 42 31 12 81 76 75 20]\n",
      " [22 22 81 76  9 60 15 69 40]]\n"
     ]
    },
    {
     "data": {
      "text/plain": [
       "array([76, 37, 72, 83, 87, 17, 13, 87, 13, 24, 11, 42, 31, 12, 81, 76, 75,\n",
       "       20, 22, 22, 81, 76,  9, 60, 15, 69, 40])"
      ]
     },
     "execution_count": 28,
     "metadata": {},
     "output_type": "execute_result"
    }
   ],
   "source": [
    "array3d = np.random.randint(1, 100, size=(3,3,3))\n",
    "print(\"массив размером 3x3:\\n\", array3d)\n",
    "\n",
    "array3d = array3d.reshape(3,9)\n",
    "print(\"массив размером 3x9:\\n\", array3d)\n",
    "\n",
    "array3d= array3d.flatten()\n",
    "print(\"одномерный массив:\\n\", array3d)"
   ]
  },
  {
   "cell_type": "markdown",
   "id": "ed4dd45e-7c45-4092-9ca5-3c30d8e9082b",
   "metadata": {},
   "source": [
    "Задача 3 - Генерация массива и объединение столбцов:\r\n",
    "\r\n",
    "● Создайте двумерный массив размером 4x3 с случайными целыми числами от 1 до 10.\r\n",
    "\r\n",
    "● Объедините столбцы этого массива в один столбец с использованием vstack."
   ]
  },
  {
   "cell_type": "code",
   "execution_count": 33,
   "id": "9a02d568-09d4-4d0a-b910-3fe542e04006",
   "metadata": {},
   "outputs": [
    {
     "name": "stdout",
     "output_type": "stream",
     "text": [
      "Двумерный массив размером 4x3:\n",
      " [[ 6  1  2]\n",
      " [ 8 10  4]\n",
      " [ 4  5  5]\n",
      " [ 8  4 10]]\n",
      "\n",
      "Столбцы, объединенные в один столбец:\n",
      " [[ 6]\n",
      " [ 8]\n",
      " [ 4]\n",
      " [ 8]\n",
      " [ 1]\n",
      " [10]\n",
      " [ 5]\n",
      " [ 4]\n",
      " [ 2]\n",
      " [ 4]\n",
      " [ 5]\n",
      " [10]]\n"
     ]
    }
   ],
   "source": [
    "\n",
    "arr = np.random.randint(1, 11, size=(4, 3))\n",
    "print(\"Двумерный массив размером 4x3:\\n\", arr)\n",
    "\n",
    "# Извлекаем каждый столбец как отдельный массив\n",
    "# и объединяем эти столбцы в один столбец\n",
    "combined_column = np.vstack([arr[:, i] for i in range(arr.shape[1])]).reshape(-1, 1)\n",
    "\n",
    "print(\"\\nСтолбцы, объединенные в один столбец:\\n\", combined_column)\n"
   ]
  },
  {
   "cell_type": "markdown",
   "id": "e91895f1-9bce-48a3-a3cf-0a9706193588",
   "metadata": {},
   "source": [
    "Задача 4 - Генерация массива и индексирование:\r\n",
    "\r\n",
    "● Создайте массив из 9 случайных чисел от 1 до 30.\r\n",
    "\r\n",
    "● Найдите индекс максимального значения в массиве и выведите это значение."
   ]
  },
  {
   "cell_type": "code",
   "execution_count": 38,
   "id": "9343a02d-f008-460b-b883-4026574f9860",
   "metadata": {},
   "outputs": [
    {
     "name": "stdout",
     "output_type": "stream",
     "text": [
      "наш массив: [14  3  9 13 21  8 22  2 27]\n",
      "Максимальное значение: 27\n",
      "Индекс максимального значения: 8\n"
     ]
    }
   ],
   "source": [
    "array = np.random.randint(1, 31, size=9)\n",
    "print(\"наш массив:\", array)\n",
    "\n",
    "# Инициализируем переменные для хранения максимального значения и его индекса\n",
    "max_value = array[0]\n",
    "max_index = 0\n",
    "\n",
    "# Итерируем по массиву, начиная со второго элемента (индекс 1), так как первый уже учтен\n",
    "for i in range(1, len(array)):\n",
    "    if array[i] > max_value:\n",
    "        max_value = array[i]\n",
    "        max_index = i\n",
    "\n",
    "print(\"Максимальное значение:\", max_value)\n",
    "print(\"Индекс максимального значения:\", max_index)"
   ]
  },
  {
   "cell_type": "markdown",
   "id": "a35cf3c1-8ac5-4039-8726-707c66067410",
   "metadata": {},
   "source": [
    "Задача 5 - Операции над массивами:\r\n",
    "\r\n",
    "● Создайте два массива, каждый размером 2x2, состоящих из случайных целых чисел от 1 до 5.\r\n",
    "\r\n",
    "● Транспонируйте один из массивов.\r\n",
    "\r\n",
    "● Сложите транспонированный массив с другим массивом."
   ]
  },
  {
   "cell_type": "code",
   "execution_count": 44,
   "id": "4d655b7a-0e27-4267-94f2-564650fd9bab",
   "metadata": {},
   "outputs": [
    {
     "name": "stdout",
     "output_type": "stream",
     "text": [
      "array1:\n",
      " [[2 5]\n",
      " [2 1]]\n",
      "array2:\n",
      " [[1 5]\n",
      " [5 1]]\n",
      "transposed array:\n",
      " [[2 2]\n",
      " [5 1]]\n",
      "concatenated array:\n",
      " [[2 2]\n",
      " [5 1]\n",
      " [1 5]\n",
      " [5 1]]\n"
     ]
    }
   ],
   "source": [
    "arr1 = np.random.randint(1,6, size=(2,2))\n",
    "arr2 = np.random.randint(1,6, size=(2,2))\n",
    "print(\"array1:\\n\", arr1)\n",
    "print(\"array2:\\n\", arr2)\n",
    "transpose = np.transpose(arr1)\n",
    "print(\"transposed array:\\n\", transpose)\n",
    "arr = np.concatenate((transpose,arr2), axis = 0)\n",
    "print(\"concatenated array:\\n\", arr)\n"
   ]
  },
  {
   "cell_type": "code",
   "execution_count": null,
   "id": "093938d2-7eaa-47b0-b757-871e6cb7fa4e",
   "metadata": {},
   "outputs": [],
   "source": []
  }
 ],
 "metadata": {
  "kernelspec": {
   "display_name": "Python 3 (ipykernel)",
   "language": "python",
   "name": "python3"
  },
  "language_info": {
   "codemirror_mode": {
    "name": "ipython",
    "version": 3
   },
   "file_extension": ".py",
   "mimetype": "text/x-python",
   "name": "python",
   "nbconvert_exporter": "python",
   "pygments_lexer": "ipython3",
   "version": "3.11.7"
  }
 },
 "nbformat": 4,
 "nbformat_minor": 5
}
